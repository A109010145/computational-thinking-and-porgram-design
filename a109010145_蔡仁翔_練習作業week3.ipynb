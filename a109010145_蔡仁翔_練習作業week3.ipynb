{
  "nbformat": 4,
  "nbformat_minor": 0,
  "metadata": {
    "colab": {
      "name": "a109010145 蔡仁翔 練習作業week3",
      "provenance": [],
      "collapsed_sections": [],
      "authorship_tag": "ABX9TyNcpImVVz4bYx5INwKaMSY2",
      "include_colab_link": true
    },
    "kernelspec": {
      "name": "python3",
      "display_name": "Python 3"
    }
  },
  "cells": [
    {
      "cell_type": "markdown",
      "metadata": {
        "id": "view-in-github",
        "colab_type": "text"
      },
      "source": [
        "<a href=\"https://colab.research.google.com/github/A109010145/computational-thinking-and-porgram-design/blob/main/a109010145_%E8%94%A1%E4%BB%81%E7%BF%94_%E7%B7%B4%E7%BF%92%E4%BD%9C%E6%A5%ADweek3.ipynb\" target=\"_parent\"><img src=\"https://colab.research.google.com/assets/colab-badge.svg\" alt=\"Open In Colab\"/></a>"
      ]
    },
    {
      "cell_type": "code",
      "metadata": {
        "colab": {
          "base_uri": "https://localhost:8080/"
        },
        "id": "kULiJQSthW8M",
        "outputId": "df141f93-3e9b-4089-ae24-45bf824c5abe"
      },
      "source": [
        "  print(1+1)\r\n",
        "      "
      ],
      "execution_count": 9,
      "outputs": [
        {
          "output_type": "stream",
          "text": [
            "2\n"
          ],
          "name": "stdout"
        }
      ]
    },
    {
      "cell_type": "code",
      "metadata": {
        "colab": {
          "base_uri": "https://localhost:8080/"
        },
        "id": "YYt98z_ahYeP",
        "outputId": "6d31e051-18d1-441f-861b-c528ae682318"
      },
      "source": [
        "print(\"hi\")"
      ],
      "execution_count": 12,
      "outputs": [
        {
          "output_type": "stream",
          "text": [
            "hi\n"
          ],
          "name": "stdout"
        }
      ]
    },
    {
      "cell_type": "code",
      "metadata": {
        "colab": {
          "base_uri": "https://localhost:8080/"
        },
        "id": "Ytmw1qAWibsU",
        "outputId": "b27a12b3-25c0-452e-aa8c-6f26caa80294"
      },
      "source": [
        "print(\"fuck\")"
      ],
      "execution_count": 13,
      "outputs": [
        {
          "output_type": "stream",
          "text": [
            "fuck\n"
          ],
          "name": "stdout"
        }
      ]
    }
  ]
}