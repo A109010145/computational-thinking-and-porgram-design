{
  "nbformat": 4,
  "nbformat_minor": 0,
  "metadata": {
    "colab": {
      "name": "a109010145 蔡仁翔 練習作業week4",
      "provenance": [],
      "collapsed_sections": [],
      "authorship_tag": "ABX9TyMW4tCGEVDlyGd2SwYXHKp+",
      "include_colab_link": true
    },
    "kernelspec": {
      "name": "python3",
      "display_name": "Python 3"
    }
  },
  "cells": [
    {
      "cell_type": "markdown",
      "metadata": {
        "id": "view-in-github",
        "colab_type": "text"
      },
      "source": [
        "<a href=\"https://colab.research.google.com/github/A109010145/computational-thinking-and-porgram-design/blob/main/a109010145_%E8%94%A1%E4%BB%81%E7%BF%94_%E7%B7%B4%E7%BF%92%E4%BD%9C%E6%A5%ADweek4.ipynb\" target=\"_parent\"><img src=\"https://colab.research.google.com/assets/colab-badge.svg\" alt=\"Open In Colab\"/></a>"
      ]
    },
    {
      "cell_type": "markdown",
      "metadata": {
        "id": "3_Y4rGZKU6xR"
      },
      "source": [
        "#隨堂練習\r\n"
      ]
    },
    {
      "cell_type": "markdown",
      "metadata": {
        "id": "dqGyTqyGU7GR"
      },
      "source": [
        "#課後練習"
      ]
    },
    {
      "cell_type": "markdown",
      "metadata": {
        "id": "oWjy0clSVmcI"
      },
      "source": [
        "**從一則新聞報導，提出新聞學系學生為啥要學「運算思維與程式設計」的見解**\r\n",
        "[連結文字](https://money.udn.com/money/story/5735/5314244)\r\n",
        "\r\n"
      ]
    },
    {
      "cell_type": "markdown",
      "metadata": {
        "id": "0pQVAf-eiFzC"
      },
      "source": [
        "古人有言:「江山代有人才出，各領風騷數百年。」江山依舊人事已非，尤其在這變化尤快的資訊化的社會；白駒過隙、滄海桑田。為了不要被時代淘汰，運算思維之重要。"
      ]
    }
  ]
}