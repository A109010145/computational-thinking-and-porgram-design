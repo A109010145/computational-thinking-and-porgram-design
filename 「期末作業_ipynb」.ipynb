{
  "nbformat": 4,
  "nbformat_minor": 0,
  "metadata": {
    "kernelspec": {
      "display_name": "Python 3",
      "language": "python",
      "name": "python3"
    },
    "language_info": {
      "codemirror_mode": {
        "name": "ipython",
        "version": 3
      },
      "file_extension": ".py",
      "mimetype": "text/x-python",
      "name": "python",
      "nbconvert_exporter": "python",
      "pygments_lexer": "ipython3",
      "version": "3.8.5"
    },
    "colab": {
      "name": "「期末作業.ipynb」",
      "provenance": [],
      "collapsed_sections": [],
      "include_colab_link": true
    }
  },
  "cells": [
    {
      "cell_type": "markdown",
      "metadata": {
        "id": "view-in-github",
        "colab_type": "text"
      },
      "source": [
        "<a href=\"https://colab.research.google.com/github/A109010145/computational-thinking-and-porgram-design/blob/main/%E3%80%8C%E6%9C%9F%E6%9C%AB%E4%BD%9C%E6%A5%AD_ipynb%E3%80%8D.ipynb\" target=\"_parent\"><img src=\"https://colab.research.google.com/assets/colab-badge.svg\" alt=\"Open In Colab\"/></a>"
      ]
    },
    {
      "cell_type": "markdown",
      "metadata": {
        "id": "PcynNWU1MHMe"
      },
      "source": [
        "# 基本程式設計(應用篇)"
      ]
    },
    {
      "cell_type": "code",
      "metadata": {
        "id": "eorD5OxgMHMh",
        "colab": {
          "base_uri": "https://localhost:8080/"
        },
        "outputId": "9639b5a8-d6ba-4a9f-bd5d-15a3f3c02725"
      },
      "source": [
        "# 1.聊天機器人自我介紹\n",
        "print(\"哈囉\")\n",
        "say = \"說到綠色會想到什麼？ 測出自己有多「天然呆」。\"\n",
        "print( say )\n",
        "\n",
        "# 2. 打招呼，取得對方名字\n",
        "name = input(\"嗨！輸入你的名字？: \")\n",
        "print(\"你好\", name, \"很高興認識你，讓我們開始接下來的測驗吧！\")\n"
      ],
      "execution_count": null,
      "outputs": [
        {
          "output_type": "stream",
          "text": [
            "哈囉\n",
            "說到綠色會想到什麼？ 測出自己有多「天然呆」。\n",
            "嗨！輸入你的名字？: 123\n",
            "你好 123 很高興認識你，讓我們開始接下來的測驗吧！\n"
          ],
          "name": "stdout"
        }
      ]
    },
    {
      "cell_type": "code",
      "metadata": {
        "colab": {
          "base_uri": "https://localhost:8080/"
        },
        "id": "Qv8nAhiQ7nAQ",
        "outputId": "4bbe1d6d-f993-4e0f-b57c-4a9da6882209"
      },
      "source": [
        "# 串在一起的版本\n",
        "print(\"哈囉很高興認識你\")\n",
        "name = input(\"你叫什麼名子呢？: \")\n",
        "print(\"你好\", name, \"很高興認識你，讓我們開始幾個有趣心理測驗吧！\")\n",
        "\n",
        "print(\"【第一個測驗，說到綠色會想到什麼呢？測出自己有多「天然呆」吧】\")\n",
        "say = \"A 草或葉子   B 綠茶   C 蔬菜   D 青蛙。\"\n",
        "print( say )\n",
        "answer = input(\"請輸入你的答案，輸入大寫的英文數字即可：\")\n",
        "if answer == \"A\": \n",
        "    print(\"Answer:聯想到A草或葉子的你，冒失度有60％。你是個性開朗，活力充沛的人，有時也會展現出少根筋的一面。\")\n",
        "    print(\"不過，在天真無邪面前，即使不小心犯了錯，旁人不容易對你產生厭惡，甚至還會覺得不如待在身邊，讓大家互相幫忙，一起往目標邁進。\")\n",
        "if answer == \"B\": \n",
        "    print(\"Answer:聯想到B綠茶的你，冒失度有40％。你是認真打拚，一切靠自己雙手實現目標的人。因此，你也不是容易出錯的人。\")\n",
        "    print(\"而且因為你過往的付出，所以在你不小心犯錯的時候，旁人也會願意給予支援。相信你在未來，也能繼續像這樣與人相互信賴，過著平順且充實的日子。\")\n",
        "if answer == \"C\": \n",
        "    print(\"Answer:聯想到C蔬菜的你，冒失度有80％。你經常抱持著「隨便啦反正先這樣」想法，行動前缺乏考慮，結果就在積累之下，常常出現「不小心」的錯誤。\")\n",
        "    print(\"其實只要在行動之前多想一想，很多過錯就能事先避免的。在防止失去旁人對你的信用之前，還是稍微克制一下自己為上。\")\n",
        "if answer == \"D\": \n",
        "    print(\"Answer:聯想到D青蛙的你，冒失度只有20％。你是個正經八百的人，但就是太過嚴肅了，所以對他人的眼光也相對嚴格，結果就是看著別人出錯，自己就容易心煩意亂，而且也會與人衝突。\")\n",
        "    print(\"或許適時的放鬆，別把自己和他人逼得那麼緊，會更好過一點也說不定。\")\n",
        "say2 = \"【那麼我們來看下一個測驗!】\"\n",
        "print(say2)\n",
        "print(\"三面鏡子選一面，分析你的內在性格\")\n",
        "say = \"A 橢圓形鏡子   B 三角形鏡子  C長方形鏡子。\"\n",
        "print( say )\n",
        "answer = input(\"你會選擇哪面鏡子呢(請輸入大寫字母)：\")\n",
        "if answer == \"A\": \n",
        "    print(\"Answer:選擇圓形鏡子的你會更注重外界環境，而不是內心世界，你傾向於盡力使朋友和家人快樂。\")\n",
        "    print(\"你是擅長交際的人，在任何衝突中都願意扮演調解員的角色。\")\n",
        "if answer == \"B\": \n",
        "    print(\"Answer:選擇三角形鏡子的你，有很強的管理能力，你的目標力極強。在競爭激烈的環境下更容易生存。\")\n",
        "    print(\"你喜歡提前準備工作，有穩定的心理素質，幾乎沒有什麼事能擊垮你!\")\n",
        "if answer == \"C\": \n",
        "    print(\"Answer:選擇長方形鏡子的你，你有較強的原則性，和自我控制性，你事務實聰明的。\")\n",
        "    print(\"你有時喜歡安靜，談吐穩定不造作，但是由於不願脫穎而出，給人一種過於守規矩的形象。\")\n",
        "say3 = \"【接下來是最後一個測驗!】\"\n",
        "print(say3)\n",
        "print(\"最浪漫的情感不外乎是找到知心者並相濡以沫，對於愛情亦是如此，我們應該爭取和最愛的人相濡以沫。\")\n",
        "print(\"所以，誰不渴望在身邊或者在未來能夠遇到那個能許自己一生幸福的人呢。想要知道你需要什麼樣的另一半，就跟一起來做個愛情心理測驗吧！\")\n",
        "print(\"如果你有一個自家花園，你可以在花園中種上任何你喜歡的植物，你會在花園上種上哪種植物呢？\")\n",
        "say = \"A 青嫩的小草  B 茂盛的樹木  C 芳香的花朵  D 能結果實的植物。\"\n",
        "print( say )\n",
        "answer = input(\"你會在花園上種上哪種植物呢？(請輸入大寫字母)：\")\n",
        "if answer == \"A\": \n",
        "    print(\"Answer:青嫩的小草：能許你一生幸福溫柔是性格跟你一致的人。\")\n",
        "    print(\"選擇一個與自己相伴到老的人，你會很在意對方是否與自己的性格契合。和性格差異極大的人一起生活，對你而言很容易產生很多衝突，生活中不免會有很多問題存在。\")\n",
        "    print(\"性格相合就表示思想一致，兩個人在一起才會有更多的共同語言。\")\n",
        "if answer == \"B\": \n",
        "    print(\"Answer:茂盛的樹木：許你一生幸福溫柔是懂得包容的人\")\n",
        "    print(\"你無法忍受一個小心眼的人陪伴在自己左右，人一生總是要犯錯的，如果犯了錯得不到原諒，你自己將會很過意不去，所以你很看重另一半的包容心。\")\n",
        "    print(\"相對來說，你比較適合選擇一個大度、大氣的人陪伴你到老。\")\n",
        "if answer == \"C\": \n",
        "    print(\"Answer:芳香的花朵：許你一生幸福溫柔是欣賞你的人\")\n",
        "    print(\"你認為愛情是建立在欣賞的基礎上的，如果一個人得不到另一個人的欣賞，就談不上能獲得他的愛護了。\")\n",
        "    print(\"而且你很需要得到別人的認可，一個懂得欣賞你的人，會得到你的愛情。你不會希望能陪自己到老的人是看輕自己的人。\")\n",
        "if answer == \"D\": \n",
        "    print(\"能結果實的植物：許你一生幸福溫柔的是尊重你的人\")\n",
        "    print(\"你認為兩個人在一起，最重要的是平等、是尊重，如果相互之間失去了尊重，感情都是白談到，而不想跟任何人相守到老。\")\n",
        "    print(\"你非常在乎雙方的尊重問題，因為你十分在乎自己的私人空間，不懂得尊重你的人是不會給你私人空間的。\")\n",
        "say4 = \"心理測驗結束囉~。\"\n",
        "print( say4 )\n",
        "\n",
        "\n",
        "\n"
      ],
      "execution_count": null,
      "outputs": [
        {
          "output_type": "stream",
          "text": [
            "哈囉很高興認識你\n",
            "你叫什麼名子呢？: 123\n",
            "你好 123 很高興認識你，讓我們開始幾個有趣心理測驗吧！\n",
            "【第一個測驗，說到綠色會想到什麼呢？測出自己有多「天然呆」吧】\n",
            "A 草或葉子   B 綠茶   C 蔬菜   D 青蛙。\n",
            "請輸入你的答案，輸入大寫的英文數字即可：A\n",
            "Answer:聯想到A草或葉子的你，冒失度有60％。你是個性開朗，活力充沛的人，有時也會展現出少根筋的一面。\n",
            "不過，在天真無邪面前，即使不小心犯了錯，旁人不容易對你產生厭惡，甚至還會覺得不如待在身邊，讓大家互相幫忙，一起往目標邁進。\n",
            "【那麼我們來看下一個測驗!】\n",
            "三面鏡子選一面，分析你的內在性格\n",
            "A 橢圓形鏡子   B 三角形鏡子  C長方形鏡子。\n",
            "你會選擇哪面鏡子呢(請輸入大寫字母)：B\n",
            "Answer:選擇三角形鏡子的你，有很強的管理能力，你的目標力極強。在競爭激烈的環境下更容易生存。\n",
            "你喜歡提前準備工作，有穩定的心理素質，幾乎沒有什麼事能擊垮你!\n",
            "【接下來是最後一個測驗!】\n",
            "最浪漫的情感不外乎是找到知心者並相濡以沫，對於愛情亦是如此，我們應該爭取和最愛的人相濡以沫。\n",
            "所以，誰不渴望在身邊或者在未來能夠遇到那個能許自己一生幸福的人呢。想要知道你需要什麼樣的另一半，就跟一起來做個愛情心理測驗吧！\n",
            "如果你有一個自家花園，你可以在花園中種上任何你喜歡的植物，你會在花園上種上哪種植物呢？\n",
            "A 青嫩的小草  B 茂盛的樹木  C 芳香的花朵  D 能結果實的植物。\n",
            "你會在花園上種上哪種植物呢？(請輸入大寫字母)：C\n",
            "Answer:芳香的花朵：許你一生幸福溫柔是欣賞你的人\n",
            "你認為愛情是建立在欣賞的基礎上的，如果一個人得不到另一個人的欣賞，就談不上能獲得他的愛護了。\n",
            "而且你很需要得到別人的認可，一個懂得欣賞你的人，會得到你的愛情。你不會希望能陪自己到老的人是看輕自己的人。\n",
            "心理測驗結束囉~。\n"
          ],
          "name": "stdout"
        }
      ]
    },
    {
      "cell_type": "code",
      "metadata": {
        "id": "V7BI3V3FMHMi",
        "colab": {
          "base_uri": "https://localhost:8080/"
        },
        "outputId": "5fe52d35-3946-4476-fa11-02413a09ee0d"
      },
      "source": [
        "print(\"說到綠色會想到什麼？\")\n",
        "say = \"A 草或葉子   B 綠茶   C 蔬菜   D 青蛙。\"\n",
        "print( say )\n",
        "\n",
        "answer = input(\"請輸入你的答案，輸入大寫的英文數字即可：\")\n",
        "if answer == \"A\": \n",
        "    print(\"聯想到A草或葉子的你，冒失度有60％。你是個性開朗，活力充沛的人，有時也會展現出少根筋的一面。\")\n",
        "    print(\"不過，在天真無邪面前，即使不小心犯了錯，旁人不容易對你產生厭惡，甚至還會覺得不如待在身邊，讓大家互相幫忙，一起往目標邁進。\")\n",
        "if answer == \"B\": \n",
        "    print(\"聯想到B綠茶的你，冒失度有40％。你是認真打拚，一切靠自己雙手實現目標的人。因此，你也不是容易出錯的人。\")\n",
        "    print(\"而且因為你過往的付出，所以在你不小心犯錯的時候，旁人也會願意給予支援。相信你在未來，也能繼續像這樣與人相互信賴，過著平順且充實的日子。\")\n",
        "if answer == \"C\": \n",
        "    print(\"聯想到C蔬菜的你，冒失度有80％。你經常抱持著「隨便啦反正先這樣」想法，行動前缺乏考慮，結果就在積累之下，常常出現「不小心」的錯誤。\")\n",
        "    print(\"其實只要在行動之前多想一想，很多過錯就能事先避免的。在防止失去旁人對你的信用之前，還是稍微克制一下自己為上。\")\n",
        "if answer == \"D\": \n",
        "    print(\"聯想到D青蛙的你，冒失度只有20％。你是個正經八百的人，但就是太過嚴肅了，所以對他人的眼光也相對嚴格，結果就是看著別人出錯，自己就容易心煩意亂，而且也會與人衝突。\")\n",
        "    print(\"或許適時的放鬆，別把自己和他人逼得那麼緊，會更好過一點也說不定。\")\n",
        "\n"
      ],
      "execution_count": null,
      "outputs": [
        {
          "output_type": "stream",
          "text": [
            "說到綠色會想到什麼？\n",
            "A 草或葉子   B 綠茶   C 蔬菜   D 青蛙。\n",
            "請輸入你的答案，輸入大寫的英文數字即可：D\n",
            "聯想到D青蛙的你，冒失度只有20％。你是個正經八百的人，但就是太過嚴肅了，所以對他人的眼光也相對嚴格，結果就是看著別人出錯，自己就容易心煩意亂，而且也會與人衝突。\n",
            "或許適時的放鬆，別把自己和他人逼得那麼緊，會更好過一點也說不定。\n"
          ],
          "name": "stdout"
        }
      ]
    },
    {
      "cell_type": "code",
      "metadata": {
        "id": "i-rPZt2pMHMj",
        "colab": {
          "base_uri": "https://localhost:8080/",
          "height": 567
        },
        "outputId": "d0ed8e0d-9892-4c80-c869-38edb524aabb"
      },
      "source": [
        "# 4 興趣\n",
        "## 4-1 食物話題\n",
        "print(\"我喜歡巧克力，也喜歡嘗試各種新食物。\")\n",
        "food = input(\"你呢。你最喜歡的食物是什麼？： \")\n",
        "print(\"我也喜歡\", food)\n",
        "question = \"你多久吃一次\" + food + \"?: \"\n",
        "howoften = input(question)\n",
        "print(\"真有趣。不知道這樣對健康好不好！\")\n",
        "\n"
      ],
      "execution_count": null,
      "outputs": [
        {
          "output_type": "stream",
          "text": [
            "我喜歡巧克力，也喜歡嘗試各種新食物。\n"
          ],
          "name": "stdout"
        },
        {
          "output_type": "error",
          "ename": "KeyboardInterrupt",
          "evalue": "ignored",
          "traceback": [
            "\u001b[0;31m---------------------------------------------------------------------------\u001b[0m",
            "\u001b[0;31mKeyboardInterrupt\u001b[0m                         Traceback (most recent call last)",
            "\u001b[0;32m/usr/local/lib/python3.7/dist-packages/ipykernel/kernelbase.py\u001b[0m in \u001b[0;36m_input_request\u001b[0;34m(self, prompt, ident, parent, password)\u001b[0m\n\u001b[1;32m    728\u001b[0m             \u001b[0;32mtry\u001b[0m\u001b[0;34m:\u001b[0m\u001b[0;34m\u001b[0m\u001b[0;34m\u001b[0m\u001b[0m\n\u001b[0;32m--> 729\u001b[0;31m                 \u001b[0mident\u001b[0m\u001b[0;34m,\u001b[0m \u001b[0mreply\u001b[0m \u001b[0;34m=\u001b[0m \u001b[0mself\u001b[0m\u001b[0;34m.\u001b[0m\u001b[0msession\u001b[0m\u001b[0;34m.\u001b[0m\u001b[0mrecv\u001b[0m\u001b[0;34m(\u001b[0m\u001b[0mself\u001b[0m\u001b[0;34m.\u001b[0m\u001b[0mstdin_socket\u001b[0m\u001b[0;34m,\u001b[0m \u001b[0;36m0\u001b[0m\u001b[0;34m)\u001b[0m\u001b[0;34m\u001b[0m\u001b[0;34m\u001b[0m\u001b[0m\n\u001b[0m\u001b[1;32m    730\u001b[0m             \u001b[0;32mexcept\u001b[0m \u001b[0mException\u001b[0m\u001b[0;34m:\u001b[0m\u001b[0;34m\u001b[0m\u001b[0;34m\u001b[0m\u001b[0m\n",
            "\u001b[0;32m/usr/local/lib/python3.7/dist-packages/jupyter_client/session.py\u001b[0m in \u001b[0;36mrecv\u001b[0;34m(self, socket, mode, content, copy)\u001b[0m\n\u001b[1;32m    802\u001b[0m         \u001b[0;32mtry\u001b[0m\u001b[0;34m:\u001b[0m\u001b[0;34m\u001b[0m\u001b[0;34m\u001b[0m\u001b[0m\n\u001b[0;32m--> 803\u001b[0;31m             \u001b[0mmsg_list\u001b[0m \u001b[0;34m=\u001b[0m \u001b[0msocket\u001b[0m\u001b[0;34m.\u001b[0m\u001b[0mrecv_multipart\u001b[0m\u001b[0;34m(\u001b[0m\u001b[0mmode\u001b[0m\u001b[0;34m,\u001b[0m \u001b[0mcopy\u001b[0m\u001b[0;34m=\u001b[0m\u001b[0mcopy\u001b[0m\u001b[0;34m)\u001b[0m\u001b[0;34m\u001b[0m\u001b[0;34m\u001b[0m\u001b[0m\n\u001b[0m\u001b[1;32m    804\u001b[0m         \u001b[0;32mexcept\u001b[0m \u001b[0mzmq\u001b[0m\u001b[0;34m.\u001b[0m\u001b[0mZMQError\u001b[0m \u001b[0;32mas\u001b[0m \u001b[0me\u001b[0m\u001b[0;34m:\u001b[0m\u001b[0;34m\u001b[0m\u001b[0;34m\u001b[0m\u001b[0m\n",
            "\u001b[0;32m/usr/local/lib/python3.7/dist-packages/zmq/sugar/socket.py\u001b[0m in \u001b[0;36mrecv_multipart\u001b[0;34m(self, flags, copy, track)\u001b[0m\n\u001b[1;32m    582\u001b[0m         \"\"\"\n\u001b[0;32m--> 583\u001b[0;31m         \u001b[0mparts\u001b[0m \u001b[0;34m=\u001b[0m \u001b[0;34m[\u001b[0m\u001b[0mself\u001b[0m\u001b[0;34m.\u001b[0m\u001b[0mrecv\u001b[0m\u001b[0;34m(\u001b[0m\u001b[0mflags\u001b[0m\u001b[0;34m,\u001b[0m \u001b[0mcopy\u001b[0m\u001b[0;34m=\u001b[0m\u001b[0mcopy\u001b[0m\u001b[0;34m,\u001b[0m \u001b[0mtrack\u001b[0m\u001b[0;34m=\u001b[0m\u001b[0mtrack\u001b[0m\u001b[0;34m)\u001b[0m\u001b[0;34m]\u001b[0m\u001b[0;34m\u001b[0m\u001b[0;34m\u001b[0m\u001b[0m\n\u001b[0m\u001b[1;32m    584\u001b[0m         \u001b[0;31m# have first part already, only loop while more to receive\u001b[0m\u001b[0;34m\u001b[0m\u001b[0;34m\u001b[0m\u001b[0;34m\u001b[0m\u001b[0m\n",
            "\u001b[0;32mzmq/backend/cython/socket.pyx\u001b[0m in \u001b[0;36mzmq.backend.cython.socket.Socket.recv\u001b[0;34m()\u001b[0m\n",
            "\u001b[0;32mzmq/backend/cython/socket.pyx\u001b[0m in \u001b[0;36mzmq.backend.cython.socket.Socket.recv\u001b[0;34m()\u001b[0m\n",
            "\u001b[0;32mzmq/backend/cython/socket.pyx\u001b[0m in \u001b[0;36mzmq.backend.cython.socket._recv_copy\u001b[0;34m()\u001b[0m\n",
            "\u001b[0;32m/usr/local/lib/python3.7/dist-packages/zmq/backend/cython/checkrc.pxd\u001b[0m in \u001b[0;36mzmq.backend.cython.checkrc._check_rc\u001b[0;34m()\u001b[0m\n",
            "\u001b[0;31mKeyboardInterrupt\u001b[0m: ",
            "\nDuring handling of the above exception, another exception occurred:\n",
            "\u001b[0;31mKeyboardInterrupt\u001b[0m                         Traceback (most recent call last)",
            "\u001b[0;32m<ipython-input-6-adb0949a13c1>\u001b[0m in \u001b[0;36m<module>\u001b[0;34m()\u001b[0m\n\u001b[1;32m      2\u001b[0m \u001b[0;31m## 4-1 食物話題\u001b[0m\u001b[0;34m\u001b[0m\u001b[0;34m\u001b[0m\u001b[0;34m\u001b[0m\u001b[0m\n\u001b[1;32m      3\u001b[0m \u001b[0mprint\u001b[0m\u001b[0;34m(\u001b[0m\u001b[0;34m\"我喜歡巧克力，也喜歡嘗試各種新食物。\"\u001b[0m\u001b[0;34m)\u001b[0m\u001b[0;34m\u001b[0m\u001b[0;34m\u001b[0m\u001b[0m\n\u001b[0;32m----> 4\u001b[0;31m \u001b[0mfood\u001b[0m \u001b[0;34m=\u001b[0m \u001b[0minput\u001b[0m\u001b[0;34m(\u001b[0m\u001b[0;34m\"你呢。你最喜歡的食物是什麼？： \"\u001b[0m\u001b[0;34m)\u001b[0m\u001b[0;34m\u001b[0m\u001b[0;34m\u001b[0m\u001b[0m\n\u001b[0m\u001b[1;32m      5\u001b[0m \u001b[0mprint\u001b[0m\u001b[0;34m(\u001b[0m\u001b[0;34m\"我也喜歡\"\u001b[0m\u001b[0;34m,\u001b[0m \u001b[0mfood\u001b[0m\u001b[0;34m)\u001b[0m\u001b[0;34m\u001b[0m\u001b[0;34m\u001b[0m\u001b[0m\n\u001b[1;32m      6\u001b[0m \u001b[0mquestion\u001b[0m \u001b[0;34m=\u001b[0m \u001b[0;34m\"你多久吃一次\"\u001b[0m \u001b[0;34m+\u001b[0m \u001b[0mfood\u001b[0m \u001b[0;34m+\u001b[0m \u001b[0;34m\"?: \"\u001b[0m\u001b[0;34m\u001b[0m\u001b[0;34m\u001b[0m\u001b[0m\n",
            "\u001b[0;32m/usr/local/lib/python3.7/dist-packages/ipykernel/kernelbase.py\u001b[0m in \u001b[0;36mraw_input\u001b[0;34m(self, prompt)\u001b[0m\n\u001b[1;32m    702\u001b[0m             \u001b[0mself\u001b[0m\u001b[0;34m.\u001b[0m\u001b[0m_parent_ident\u001b[0m\u001b[0;34m,\u001b[0m\u001b[0;34m\u001b[0m\u001b[0;34m\u001b[0m\u001b[0m\n\u001b[1;32m    703\u001b[0m             \u001b[0mself\u001b[0m\u001b[0;34m.\u001b[0m\u001b[0m_parent_header\u001b[0m\u001b[0;34m,\u001b[0m\u001b[0;34m\u001b[0m\u001b[0;34m\u001b[0m\u001b[0m\n\u001b[0;32m--> 704\u001b[0;31m             \u001b[0mpassword\u001b[0m\u001b[0;34m=\u001b[0m\u001b[0;32mFalse\u001b[0m\u001b[0;34m,\u001b[0m\u001b[0;34m\u001b[0m\u001b[0;34m\u001b[0m\u001b[0m\n\u001b[0m\u001b[1;32m    705\u001b[0m         )\n\u001b[1;32m    706\u001b[0m \u001b[0;34m\u001b[0m\u001b[0m\n",
            "\u001b[0;32m/usr/local/lib/python3.7/dist-packages/ipykernel/kernelbase.py\u001b[0m in \u001b[0;36m_input_request\u001b[0;34m(self, prompt, ident, parent, password)\u001b[0m\n\u001b[1;32m    732\u001b[0m             \u001b[0;32mexcept\u001b[0m \u001b[0mKeyboardInterrupt\u001b[0m\u001b[0;34m:\u001b[0m\u001b[0;34m\u001b[0m\u001b[0;34m\u001b[0m\u001b[0m\n\u001b[1;32m    733\u001b[0m                 \u001b[0;31m# re-raise KeyboardInterrupt, to truncate traceback\u001b[0m\u001b[0;34m\u001b[0m\u001b[0;34m\u001b[0m\u001b[0;34m\u001b[0m\u001b[0m\n\u001b[0;32m--> 734\u001b[0;31m                 \u001b[0;32mraise\u001b[0m \u001b[0mKeyboardInterrupt\u001b[0m\u001b[0;34m\u001b[0m\u001b[0;34m\u001b[0m\u001b[0m\n\u001b[0m\u001b[1;32m    735\u001b[0m             \u001b[0;32melse\u001b[0m\u001b[0;34m:\u001b[0m\u001b[0;34m\u001b[0m\u001b[0;34m\u001b[0m\u001b[0m\n\u001b[1;32m    736\u001b[0m                 \u001b[0;32mbreak\u001b[0m\u001b[0;34m\u001b[0m\u001b[0;34m\u001b[0m\u001b[0m\n",
            "\u001b[0;31mKeyboardInterrupt\u001b[0m: "
          ]
        }
      ]
    },
    {
      "cell_type": "code",
      "metadata": {
        "id": "RQe6ijcAMHMj",
        "colab": {
          "base_uri": "https://localhost:8080/",
          "height": 549
        },
        "outputId": "27885958-dab8-4966-a126-045483d0ee3a"
      },
      "source": [
        "# 4 興趣\n",
        "## 4-2 動物話題\n",
        "animal = input(\"我最喜歡的動物是烏龜。你呢？； \")\n",
        "print(\"我不喜歡\", animal)\n",
        "print(\"不知道\", animal, \"喜不喜歡吃\", food, \"?\")\n",
        "\n"
      ],
      "execution_count": null,
      "outputs": [
        {
          "output_type": "error",
          "ename": "KeyboardInterrupt",
          "evalue": "ignored",
          "traceback": [
            "\u001b[0;31m---------------------------------------------------------------------------\u001b[0m",
            "\u001b[0;31mKeyboardInterrupt\u001b[0m                         Traceback (most recent call last)",
            "\u001b[0;32m/usr/local/lib/python3.7/dist-packages/ipykernel/kernelbase.py\u001b[0m in \u001b[0;36m_input_request\u001b[0;34m(self, prompt, ident, parent, password)\u001b[0m\n\u001b[1;32m    728\u001b[0m             \u001b[0;32mtry\u001b[0m\u001b[0;34m:\u001b[0m\u001b[0;34m\u001b[0m\u001b[0;34m\u001b[0m\u001b[0m\n\u001b[0;32m--> 729\u001b[0;31m                 \u001b[0mident\u001b[0m\u001b[0;34m,\u001b[0m \u001b[0mreply\u001b[0m \u001b[0;34m=\u001b[0m \u001b[0mself\u001b[0m\u001b[0;34m.\u001b[0m\u001b[0msession\u001b[0m\u001b[0;34m.\u001b[0m\u001b[0mrecv\u001b[0m\u001b[0;34m(\u001b[0m\u001b[0mself\u001b[0m\u001b[0;34m.\u001b[0m\u001b[0mstdin_socket\u001b[0m\u001b[0;34m,\u001b[0m \u001b[0;36m0\u001b[0m\u001b[0;34m)\u001b[0m\u001b[0;34m\u001b[0m\u001b[0;34m\u001b[0m\u001b[0m\n\u001b[0m\u001b[1;32m    730\u001b[0m             \u001b[0;32mexcept\u001b[0m \u001b[0mException\u001b[0m\u001b[0;34m:\u001b[0m\u001b[0;34m\u001b[0m\u001b[0;34m\u001b[0m\u001b[0m\n",
            "\u001b[0;32m/usr/local/lib/python3.7/dist-packages/jupyter_client/session.py\u001b[0m in \u001b[0;36mrecv\u001b[0;34m(self, socket, mode, content, copy)\u001b[0m\n\u001b[1;32m    802\u001b[0m         \u001b[0;32mtry\u001b[0m\u001b[0;34m:\u001b[0m\u001b[0;34m\u001b[0m\u001b[0;34m\u001b[0m\u001b[0m\n\u001b[0;32m--> 803\u001b[0;31m             \u001b[0mmsg_list\u001b[0m \u001b[0;34m=\u001b[0m \u001b[0msocket\u001b[0m\u001b[0;34m.\u001b[0m\u001b[0mrecv_multipart\u001b[0m\u001b[0;34m(\u001b[0m\u001b[0mmode\u001b[0m\u001b[0;34m,\u001b[0m \u001b[0mcopy\u001b[0m\u001b[0;34m=\u001b[0m\u001b[0mcopy\u001b[0m\u001b[0;34m)\u001b[0m\u001b[0;34m\u001b[0m\u001b[0;34m\u001b[0m\u001b[0m\n\u001b[0m\u001b[1;32m    804\u001b[0m         \u001b[0;32mexcept\u001b[0m \u001b[0mzmq\u001b[0m\u001b[0;34m.\u001b[0m\u001b[0mZMQError\u001b[0m \u001b[0;32mas\u001b[0m \u001b[0me\u001b[0m\u001b[0;34m:\u001b[0m\u001b[0;34m\u001b[0m\u001b[0;34m\u001b[0m\u001b[0m\n",
            "\u001b[0;32m/usr/local/lib/python3.7/dist-packages/zmq/sugar/socket.py\u001b[0m in \u001b[0;36mrecv_multipart\u001b[0;34m(self, flags, copy, track)\u001b[0m\n\u001b[1;32m    582\u001b[0m         \"\"\"\n\u001b[0;32m--> 583\u001b[0;31m         \u001b[0mparts\u001b[0m \u001b[0;34m=\u001b[0m \u001b[0;34m[\u001b[0m\u001b[0mself\u001b[0m\u001b[0;34m.\u001b[0m\u001b[0mrecv\u001b[0m\u001b[0;34m(\u001b[0m\u001b[0mflags\u001b[0m\u001b[0;34m,\u001b[0m \u001b[0mcopy\u001b[0m\u001b[0;34m=\u001b[0m\u001b[0mcopy\u001b[0m\u001b[0;34m,\u001b[0m \u001b[0mtrack\u001b[0m\u001b[0;34m=\u001b[0m\u001b[0mtrack\u001b[0m\u001b[0;34m)\u001b[0m\u001b[0;34m]\u001b[0m\u001b[0;34m\u001b[0m\u001b[0;34m\u001b[0m\u001b[0m\n\u001b[0m\u001b[1;32m    584\u001b[0m         \u001b[0;31m# have first part already, only loop while more to receive\u001b[0m\u001b[0;34m\u001b[0m\u001b[0;34m\u001b[0m\u001b[0;34m\u001b[0m\u001b[0m\n",
            "\u001b[0;32mzmq/backend/cython/socket.pyx\u001b[0m in \u001b[0;36mzmq.backend.cython.socket.Socket.recv\u001b[0;34m()\u001b[0m\n",
            "\u001b[0;32mzmq/backend/cython/socket.pyx\u001b[0m in \u001b[0;36mzmq.backend.cython.socket.Socket.recv\u001b[0;34m()\u001b[0m\n",
            "\u001b[0;32mzmq/backend/cython/socket.pyx\u001b[0m in \u001b[0;36mzmq.backend.cython.socket._recv_copy\u001b[0;34m()\u001b[0m\n",
            "\u001b[0;32m/usr/local/lib/python3.7/dist-packages/zmq/backend/cython/checkrc.pxd\u001b[0m in \u001b[0;36mzmq.backend.cython.checkrc._check_rc\u001b[0;34m()\u001b[0m\n",
            "\u001b[0;31mKeyboardInterrupt\u001b[0m: ",
            "\nDuring handling of the above exception, another exception occurred:\n",
            "\u001b[0;31mKeyboardInterrupt\u001b[0m                         Traceback (most recent call last)",
            "\u001b[0;32m<ipython-input-7-1928ab758bca>\u001b[0m in \u001b[0;36m<module>\u001b[0;34m()\u001b[0m\n\u001b[1;32m      1\u001b[0m \u001b[0;31m# 4 興趣\u001b[0m\u001b[0;34m\u001b[0m\u001b[0;34m\u001b[0m\u001b[0;34m\u001b[0m\u001b[0m\n\u001b[1;32m      2\u001b[0m \u001b[0;31m## 4-2 動物話題\u001b[0m\u001b[0;34m\u001b[0m\u001b[0;34m\u001b[0m\u001b[0;34m\u001b[0m\u001b[0m\n\u001b[0;32m----> 3\u001b[0;31m \u001b[0manimal\u001b[0m \u001b[0;34m=\u001b[0m \u001b[0minput\u001b[0m\u001b[0;34m(\u001b[0m\u001b[0;34m\"我最喜歡的動物是烏龜。你呢？； \"\u001b[0m\u001b[0;34m)\u001b[0m\u001b[0;34m\u001b[0m\u001b[0;34m\u001b[0m\u001b[0m\n\u001b[0m\u001b[1;32m      4\u001b[0m \u001b[0mprint\u001b[0m\u001b[0;34m(\u001b[0m\u001b[0;34m\"我不喜歡\"\u001b[0m\u001b[0;34m,\u001b[0m \u001b[0manimal\u001b[0m\u001b[0;34m)\u001b[0m\u001b[0;34m\u001b[0m\u001b[0;34m\u001b[0m\u001b[0m\n\u001b[1;32m      5\u001b[0m \u001b[0mprint\u001b[0m\u001b[0;34m(\u001b[0m\u001b[0;34m\"不知道\"\u001b[0m\u001b[0;34m,\u001b[0m \u001b[0manimal\u001b[0m\u001b[0;34m,\u001b[0m \u001b[0;34m\"喜不喜歡吃\"\u001b[0m\u001b[0;34m,\u001b[0m \u001b[0mfood\u001b[0m\u001b[0;34m,\u001b[0m \u001b[0;34m\"?\"\u001b[0m\u001b[0;34m)\u001b[0m\u001b[0;34m\u001b[0m\u001b[0;34m\u001b[0m\u001b[0m\n",
            "\u001b[0;32m/usr/local/lib/python3.7/dist-packages/ipykernel/kernelbase.py\u001b[0m in \u001b[0;36mraw_input\u001b[0;34m(self, prompt)\u001b[0m\n\u001b[1;32m    702\u001b[0m             \u001b[0mself\u001b[0m\u001b[0;34m.\u001b[0m\u001b[0m_parent_ident\u001b[0m\u001b[0;34m,\u001b[0m\u001b[0;34m\u001b[0m\u001b[0;34m\u001b[0m\u001b[0m\n\u001b[1;32m    703\u001b[0m             \u001b[0mself\u001b[0m\u001b[0;34m.\u001b[0m\u001b[0m_parent_header\u001b[0m\u001b[0;34m,\u001b[0m\u001b[0;34m\u001b[0m\u001b[0;34m\u001b[0m\u001b[0m\n\u001b[0;32m--> 704\u001b[0;31m             \u001b[0mpassword\u001b[0m\u001b[0;34m=\u001b[0m\u001b[0;32mFalse\u001b[0m\u001b[0;34m,\u001b[0m\u001b[0;34m\u001b[0m\u001b[0;34m\u001b[0m\u001b[0m\n\u001b[0m\u001b[1;32m    705\u001b[0m         )\n\u001b[1;32m    706\u001b[0m \u001b[0;34m\u001b[0m\u001b[0m\n",
            "\u001b[0;32m/usr/local/lib/python3.7/dist-packages/ipykernel/kernelbase.py\u001b[0m in \u001b[0;36m_input_request\u001b[0;34m(self, prompt, ident, parent, password)\u001b[0m\n\u001b[1;32m    732\u001b[0m             \u001b[0;32mexcept\u001b[0m \u001b[0mKeyboardInterrupt\u001b[0m\u001b[0;34m:\u001b[0m\u001b[0;34m\u001b[0m\u001b[0;34m\u001b[0m\u001b[0m\n\u001b[1;32m    733\u001b[0m                 \u001b[0;31m# re-raise KeyboardInterrupt, to truncate traceback\u001b[0m\u001b[0;34m\u001b[0m\u001b[0;34m\u001b[0m\u001b[0;34m\u001b[0m\u001b[0m\n\u001b[0;32m--> 734\u001b[0;31m                 \u001b[0;32mraise\u001b[0m \u001b[0mKeyboardInterrupt\u001b[0m\u001b[0;34m\u001b[0m\u001b[0;34m\u001b[0m\u001b[0m\n\u001b[0m\u001b[1;32m    735\u001b[0m             \u001b[0;32melse\u001b[0m\u001b[0;34m:\u001b[0m\u001b[0;34m\u001b[0m\u001b[0;34m\u001b[0m\u001b[0m\n\u001b[1;32m    736\u001b[0m                 \u001b[0;32mbreak\u001b[0m\u001b[0;34m\u001b[0m\u001b[0;34m\u001b[0m\u001b[0m\n",
            "\u001b[0;31mKeyboardInterrupt\u001b[0m: "
          ]
        }
      ]
    },
    {
      "cell_type": "code",
      "metadata": {
        "id": "1Tc6xbOyMHMk",
        "colab": {
          "base_uri": "https://localhost:8080/",
          "height": 549
        },
        "outputId": "fbbf87d6-66d2-49f0-d124-471f65d1f74e"
      },
      "source": [
        "# 5. 關於心情的對話\n",
        "feeling = input(\"你今天心情如何？； \")\n",
        "print(\"可以告訴我，你\", feeling, \"的原因。 \")\n",
        "reason = input(\"我喜歡跟你聊天，現在有點累了，改天再聊吧！！\")\n",
        "print(\"再見。\")\n"
      ],
      "execution_count": null,
      "outputs": [
        {
          "output_type": "error",
          "ename": "KeyboardInterrupt",
          "evalue": "ignored",
          "traceback": [
            "\u001b[0;31m---------------------------------------------------------------------------\u001b[0m",
            "\u001b[0;31mKeyboardInterrupt\u001b[0m                         Traceback (most recent call last)",
            "\u001b[0;32m/usr/local/lib/python3.7/dist-packages/ipykernel/kernelbase.py\u001b[0m in \u001b[0;36m_input_request\u001b[0;34m(self, prompt, ident, parent, password)\u001b[0m\n\u001b[1;32m    728\u001b[0m             \u001b[0;32mtry\u001b[0m\u001b[0;34m:\u001b[0m\u001b[0;34m\u001b[0m\u001b[0;34m\u001b[0m\u001b[0m\n\u001b[0;32m--> 729\u001b[0;31m                 \u001b[0mident\u001b[0m\u001b[0;34m,\u001b[0m \u001b[0mreply\u001b[0m \u001b[0;34m=\u001b[0m \u001b[0mself\u001b[0m\u001b[0;34m.\u001b[0m\u001b[0msession\u001b[0m\u001b[0;34m.\u001b[0m\u001b[0mrecv\u001b[0m\u001b[0;34m(\u001b[0m\u001b[0mself\u001b[0m\u001b[0;34m.\u001b[0m\u001b[0mstdin_socket\u001b[0m\u001b[0;34m,\u001b[0m \u001b[0;36m0\u001b[0m\u001b[0;34m)\u001b[0m\u001b[0;34m\u001b[0m\u001b[0;34m\u001b[0m\u001b[0m\n\u001b[0m\u001b[1;32m    730\u001b[0m             \u001b[0;32mexcept\u001b[0m \u001b[0mException\u001b[0m\u001b[0;34m:\u001b[0m\u001b[0;34m\u001b[0m\u001b[0;34m\u001b[0m\u001b[0m\n",
            "\u001b[0;32m/usr/local/lib/python3.7/dist-packages/jupyter_client/session.py\u001b[0m in \u001b[0;36mrecv\u001b[0;34m(self, socket, mode, content, copy)\u001b[0m\n\u001b[1;32m    802\u001b[0m         \u001b[0;32mtry\u001b[0m\u001b[0;34m:\u001b[0m\u001b[0;34m\u001b[0m\u001b[0;34m\u001b[0m\u001b[0m\n\u001b[0;32m--> 803\u001b[0;31m             \u001b[0mmsg_list\u001b[0m \u001b[0;34m=\u001b[0m \u001b[0msocket\u001b[0m\u001b[0;34m.\u001b[0m\u001b[0mrecv_multipart\u001b[0m\u001b[0;34m(\u001b[0m\u001b[0mmode\u001b[0m\u001b[0;34m,\u001b[0m \u001b[0mcopy\u001b[0m\u001b[0;34m=\u001b[0m\u001b[0mcopy\u001b[0m\u001b[0;34m)\u001b[0m\u001b[0;34m\u001b[0m\u001b[0;34m\u001b[0m\u001b[0m\n\u001b[0m\u001b[1;32m    804\u001b[0m         \u001b[0;32mexcept\u001b[0m \u001b[0mzmq\u001b[0m\u001b[0;34m.\u001b[0m\u001b[0mZMQError\u001b[0m \u001b[0;32mas\u001b[0m \u001b[0me\u001b[0m\u001b[0;34m:\u001b[0m\u001b[0;34m\u001b[0m\u001b[0;34m\u001b[0m\u001b[0m\n",
            "\u001b[0;32m/usr/local/lib/python3.7/dist-packages/zmq/sugar/socket.py\u001b[0m in \u001b[0;36mrecv_multipart\u001b[0;34m(self, flags, copy, track)\u001b[0m\n\u001b[1;32m    582\u001b[0m         \"\"\"\n\u001b[0;32m--> 583\u001b[0;31m         \u001b[0mparts\u001b[0m \u001b[0;34m=\u001b[0m \u001b[0;34m[\u001b[0m\u001b[0mself\u001b[0m\u001b[0;34m.\u001b[0m\u001b[0mrecv\u001b[0m\u001b[0;34m(\u001b[0m\u001b[0mflags\u001b[0m\u001b[0;34m,\u001b[0m \u001b[0mcopy\u001b[0m\u001b[0;34m=\u001b[0m\u001b[0mcopy\u001b[0m\u001b[0;34m,\u001b[0m \u001b[0mtrack\u001b[0m\u001b[0;34m=\u001b[0m\u001b[0mtrack\u001b[0m\u001b[0;34m)\u001b[0m\u001b[0;34m]\u001b[0m\u001b[0;34m\u001b[0m\u001b[0;34m\u001b[0m\u001b[0m\n\u001b[0m\u001b[1;32m    584\u001b[0m         \u001b[0;31m# have first part already, only loop while more to receive\u001b[0m\u001b[0;34m\u001b[0m\u001b[0;34m\u001b[0m\u001b[0;34m\u001b[0m\u001b[0m\n",
            "\u001b[0;32mzmq/backend/cython/socket.pyx\u001b[0m in \u001b[0;36mzmq.backend.cython.socket.Socket.recv\u001b[0;34m()\u001b[0m\n",
            "\u001b[0;32mzmq/backend/cython/socket.pyx\u001b[0m in \u001b[0;36mzmq.backend.cython.socket.Socket.recv\u001b[0;34m()\u001b[0m\n",
            "\u001b[0;32mzmq/backend/cython/socket.pyx\u001b[0m in \u001b[0;36mzmq.backend.cython.socket._recv_copy\u001b[0;34m()\u001b[0m\n",
            "\u001b[0;32m/usr/local/lib/python3.7/dist-packages/zmq/backend/cython/checkrc.pxd\u001b[0m in \u001b[0;36mzmq.backend.cython.checkrc._check_rc\u001b[0;34m()\u001b[0m\n",
            "\u001b[0;31mKeyboardInterrupt\u001b[0m: ",
            "\nDuring handling of the above exception, another exception occurred:\n",
            "\u001b[0;31mKeyboardInterrupt\u001b[0m                         Traceback (most recent call last)",
            "\u001b[0;32m<ipython-input-8-783875dcc8b5>\u001b[0m in \u001b[0;36m<module>\u001b[0;34m()\u001b[0m\n\u001b[1;32m      1\u001b[0m \u001b[0;31m# 5. 關於心情的對話\u001b[0m\u001b[0;34m\u001b[0m\u001b[0;34m\u001b[0m\u001b[0;34m\u001b[0m\u001b[0m\n\u001b[0;32m----> 2\u001b[0;31m \u001b[0mfeeling\u001b[0m \u001b[0;34m=\u001b[0m \u001b[0minput\u001b[0m\u001b[0;34m(\u001b[0m\u001b[0;34m\"你今天心情如何？； \"\u001b[0m\u001b[0;34m)\u001b[0m\u001b[0;34m\u001b[0m\u001b[0;34m\u001b[0m\u001b[0m\n\u001b[0m\u001b[1;32m      3\u001b[0m \u001b[0mprint\u001b[0m\u001b[0;34m(\u001b[0m\u001b[0;34m\"可以告訴我，你\"\u001b[0m\u001b[0;34m,\u001b[0m \u001b[0mfeeling\u001b[0m\u001b[0;34m,\u001b[0m \u001b[0;34m\"的原因。 \"\u001b[0m\u001b[0;34m)\u001b[0m\u001b[0;34m\u001b[0m\u001b[0;34m\u001b[0m\u001b[0m\n\u001b[1;32m      4\u001b[0m \u001b[0mreason\u001b[0m \u001b[0;34m=\u001b[0m \u001b[0minput\u001b[0m\u001b[0;34m(\u001b[0m\u001b[0;34m\"我喜歡跟你聊天，現在有點累了，改天再聊吧！！\"\u001b[0m\u001b[0;34m)\u001b[0m\u001b[0;34m\u001b[0m\u001b[0;34m\u001b[0m\u001b[0m\n\u001b[1;32m      5\u001b[0m \u001b[0mprint\u001b[0m\u001b[0;34m(\u001b[0m\u001b[0;34m\"再見。\"\u001b[0m\u001b[0;34m)\u001b[0m\u001b[0;34m\u001b[0m\u001b[0;34m\u001b[0m\u001b[0m\n",
            "\u001b[0;32m/usr/local/lib/python3.7/dist-packages/ipykernel/kernelbase.py\u001b[0m in \u001b[0;36mraw_input\u001b[0;34m(self, prompt)\u001b[0m\n\u001b[1;32m    702\u001b[0m             \u001b[0mself\u001b[0m\u001b[0;34m.\u001b[0m\u001b[0m_parent_ident\u001b[0m\u001b[0;34m,\u001b[0m\u001b[0;34m\u001b[0m\u001b[0;34m\u001b[0m\u001b[0m\n\u001b[1;32m    703\u001b[0m             \u001b[0mself\u001b[0m\u001b[0;34m.\u001b[0m\u001b[0m_parent_header\u001b[0m\u001b[0;34m,\u001b[0m\u001b[0;34m\u001b[0m\u001b[0;34m\u001b[0m\u001b[0m\n\u001b[0;32m--> 704\u001b[0;31m             \u001b[0mpassword\u001b[0m\u001b[0;34m=\u001b[0m\u001b[0;32mFalse\u001b[0m\u001b[0;34m,\u001b[0m\u001b[0;34m\u001b[0m\u001b[0;34m\u001b[0m\u001b[0m\n\u001b[0m\u001b[1;32m    705\u001b[0m         )\n\u001b[1;32m    706\u001b[0m \u001b[0;34m\u001b[0m\u001b[0m\n",
            "\u001b[0;32m/usr/local/lib/python3.7/dist-packages/ipykernel/kernelbase.py\u001b[0m in \u001b[0;36m_input_request\u001b[0;34m(self, prompt, ident, parent, password)\u001b[0m\n\u001b[1;32m    732\u001b[0m             \u001b[0;32mexcept\u001b[0m \u001b[0mKeyboardInterrupt\u001b[0m\u001b[0;34m:\u001b[0m\u001b[0;34m\u001b[0m\u001b[0;34m\u001b[0m\u001b[0m\n\u001b[1;32m    733\u001b[0m                 \u001b[0;31m# re-raise KeyboardInterrupt, to truncate traceback\u001b[0m\u001b[0;34m\u001b[0m\u001b[0;34m\u001b[0m\u001b[0;34m\u001b[0m\u001b[0m\n\u001b[0;32m--> 734\u001b[0;31m                 \u001b[0;32mraise\u001b[0m \u001b[0mKeyboardInterrupt\u001b[0m\u001b[0;34m\u001b[0m\u001b[0;34m\u001b[0m\u001b[0m\n\u001b[0m\u001b[1;32m    735\u001b[0m             \u001b[0;32melse\u001b[0m\u001b[0;34m:\u001b[0m\u001b[0;34m\u001b[0m\u001b[0;34m\u001b[0m\u001b[0m\n\u001b[1;32m    736\u001b[0m                 \u001b[0;32mbreak\u001b[0m\u001b[0;34m\u001b[0m\u001b[0;34m\u001b[0m\u001b[0m\n",
            "\u001b[0;31mKeyboardInterrupt\u001b[0m: "
          ]
        }
      ]
    },
    {
      "cell_type": "markdown",
      "metadata": {
        "id": "GvpLNhURMHMk"
      },
      "source": [
        "我喜歡跟你聊天，現在有點累了，改天再聊吧！！\n",
        "\n",
        "再見 *Francis*！"
      ]
    },
    {
      "cell_type": "code",
      "metadata": {
        "id": "kh4_JNMxMHMk"
      },
      "source": [
        "# 6. 道別\n"
      ],
      "execution_count": null,
      "outputs": []
    },
    {
      "cell_type": "markdown",
      "metadata": {
        "id": "PjPyvC-EMHMl"
      },
      "source": [
        "## 期末報告"
      ]
    },
    {
      "cell_type": "markdown",
      "metadata": {
        "id": "RHq412JzVOee"
      },
      "source": [
        ""
      ]
    },
    {
      "cell_type": "markdown",
      "metadata": {
        "id": "EikXt_YXMHMl"
      },
      "source": [
        "### 組長(學號姓名):\n"
      ]
    },
    {
      "cell_type": "markdown",
      "metadata": {
        "id": "5ine0eGt115Y"
      },
      "source": [
        "蔡仁翔a109010145"
      ]
    },
    {
      "cell_type": "markdown",
      "metadata": {
        "id": "xK-d4PQiMHMl"
      },
      "source": [
        "### 組員(學號姓名)\n"
      ]
    },
    {
      "cell_type": "markdown",
      "metadata": {
        "id": "t7q8PNCK18X0"
      },
      "source": [
        "廖晟文a109010073 \n",
        "施喬恩a109010055 \n",
        "陳人瑜a109010139"
      ]
    },
    {
      "cell_type": "markdown",
      "metadata": {
        "id": "6WEjNZQgMHMl"
      },
      "source": [
        "### 題目:"
      ]
    },
    {
      "cell_type": "markdown",
      "metadata": {
        "id": "MxFf3Gnp2Bk8"
      },
      "source": [
        "心理測驗"
      ]
    },
    {
      "cell_type": "markdown",
      "metadata": {
        "id": "olkeH-OLMHMl"
      },
      "source": [
        "### 百字腳本\n",
        "\n"
      ]
    },
    {
      "cell_type": "markdown",
      "metadata": {
        "id": "gwN-EpCUx2mj"
      },
      "source": [
        "我們希望藉由聊天機器人配合心理測驗讓現代人在忙碌的生活中可以享受片刻的輕鬆。\n",
        "在第一個心理測驗的部分，藉由四個選項的選擇我們可以得知冒失度是多少，並配合小建議使生活可以變好。\n",
        "在第二個心理測驗中，藉由選擇三個不同的形狀的鏡子來得知個性，並告訴優點和別人眼中的你。\n",
        "而在第三個心理測驗中，伴隨著選擇四種植物。我們可以知道最適合你伴侶的個性，作為擇偶的小建議。\n",
        "最後，儘管生活中有許多困難，但是千萬不要忘了你的興趣和快樂的心。"
      ]
    }
  ]
}